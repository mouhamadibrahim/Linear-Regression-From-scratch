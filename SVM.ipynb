{
 "cells": [
  {
   "cell_type": "markdown",
   "metadata": {},
   "source": [
    "# Importing libraries"
   ]
  },
  {
   "cell_type": "code",
   "execution_count": 19,
   "metadata": {},
   "outputs": [],
   "source": [
    "from sklearn import datasets\n",
    "from sklearn.model_selection import train_test_split\n",
    "from sklearn.model_selection import cross_val_score\n",
    "from sklearn.svm import SVC\n",
    "import numpy as np\n",
    "from sklearn.pipeline import make_pipeline\n",
    "from sklearn.preprocessing import MinMaxScaler, StandardScaler, RobustScaler, Normalizer\n",
    "from sklearn.model_selection import GridSearchCV\n",
    "from sklearn.pipeline import Pipeline\n",
    "from sklearn.model_selection import KFold\n",
    "import math"
   ]
  },
  {
   "cell_type": "markdown",
   "metadata": {},
   "source": [
    "# importing the wine dataset"
   ]
  },
  {
   "cell_type": "code",
   "execution_count": 20,
   "metadata": {},
   "outputs": [],
   "source": [
    "wine = datasets.load_wine()"
   ]
  },
  {
   "cell_type": "code",
   "execution_count": 21,
   "metadata": {},
   "outputs": [],
   "source": [
    "data = wine.data\n",
    "label = wine.target"
   ]
  },
  {
   "cell_type": "markdown",
   "metadata": {},
   "source": [
    "# splitting the dataset"
   ]
  },
  {
   "cell_type": "code",
   "execution_count": 22,
   "metadata": {},
   "outputs": [],
   "source": [
    "X_train,X_test,y_train,y_test = train_test_split(data,label,random_state=408)"
   ]
  },
  {
   "cell_type": "markdown",
   "metadata": {},
   "source": [
    "# Applying the svm classifier on it"
   ]
  },
  {
   "cell_type": "code",
   "execution_count": 23,
   "metadata": {},
   "outputs": [
    {
     "name": "stdout",
     "output_type": "stream",
     "text": [
      "training scores: [0.45652174 0.40909091 0.41860465]\n",
      "The generalization training accuracy is: 0.4280724331280448\n"
     ]
    },
    {
     "name": "stderr",
     "output_type": "stream",
     "text": [
      "d:\\python 3.7\\lib\\site-packages\\sklearn\\model_selection\\_split.py:1978: FutureWarning: The default value of cv will change from 3 to 5 in version 0.22. Specify it explicitly to silence this warning.\n",
      "  warnings.warn(CV_WARNING, FutureWarning)\n",
      "d:\\python 3.7\\lib\\site-packages\\sklearn\\svm\\base.py:193: FutureWarning: The default value of gamma will change from 'auto' to 'scale' in version 0.22 to account better for unscaled features. Set gamma explicitly to 'auto' or 'scale' to avoid this warning.\n",
      "  \"avoid this warning.\", FutureWarning)\n",
      "d:\\python 3.7\\lib\\site-packages\\sklearn\\svm\\base.py:193: FutureWarning: The default value of gamma will change from 'auto' to 'scale' in version 0.22 to account better for unscaled features. Set gamma explicitly to 'auto' or 'scale' to avoid this warning.\n",
      "  \"avoid this warning.\", FutureWarning)\n",
      "d:\\python 3.7\\lib\\site-packages\\sklearn\\svm\\base.py:193: FutureWarning: The default value of gamma will change from 'auto' to 'scale' in version 0.22 to account better for unscaled features. Set gamma explicitly to 'auto' or 'scale' to avoid this warning.\n",
      "  \"avoid this warning.\", FutureWarning)\n"
     ]
    }
   ],
   "source": [
    "svm = SVC()\n",
    "training_scores = cross_val_score(svm, X_train, y_train)\n",
    "generalization_accuracy = sum(training_scores)/len(training_scores)\n",
    "print(\"training scores:\",training_scores)\n",
    "print(\"The generalization training accuracy is:\", generalization_accuracy)"
   ]
  },
  {
   "cell_type": "markdown",
   "metadata": {},
   "source": [
    "# fitting the data"
   ]
  },
  {
   "cell_type": "code",
   "execution_count": 24,
   "metadata": {},
   "outputs": [
    {
     "name": "stderr",
     "output_type": "stream",
     "text": [
      "d:\\python 3.7\\lib\\site-packages\\sklearn\\svm\\base.py:193: FutureWarning: The default value of gamma will change from 'auto' to 'scale' in version 0.22 to account better for unscaled features. Set gamma explicitly to 'auto' or 'scale' to avoid this warning.\n",
      "  \"avoid this warning.\", FutureWarning)\n"
     ]
    },
    {
     "data": {
      "text/plain": [
       "SVC(C=1.0, cache_size=200, class_weight=None, coef0=0.0,\n",
       "    decision_function_shape='ovr', degree=3, gamma='auto_deprecated',\n",
       "    kernel='rbf', max_iter=-1, probability=False, random_state=None,\n",
       "    shrinking=True, tol=0.001, verbose=False)"
      ]
     },
     "execution_count": 24,
     "metadata": {},
     "output_type": "execute_result"
    }
   ],
   "source": [
    "svm.fit(X_train,y_train)"
   ]
  },
  {
   "cell_type": "code",
   "execution_count": 25,
   "metadata": {},
   "outputs": [
    {
     "name": "stdout",
     "output_type": "stream",
     "text": [
      "[False False  True False  True False False False  True False  True  True\n",
      " False False  True False False  True  True False False  True  True  True\n",
      " False False False False  True  True  True  True  True False False  True\n",
      " False  True  True  True False False  True False  True]\n",
      "test error rate is: 0.4888888888888889\n"
     ]
    }
   ],
   "source": [
    "print(np.argmax(svm.decision_function(X_test), axis=1)!=y_test)\n",
    "test_error_rate = sum(np.argmax(svm.decision_function(X_test), axis=1)!=y_test)/len(X_test)\n",
    "print(\"test error rate is:\", test_error_rate)"
   ]
  },
  {
   "cell_type": "markdown",
   "metadata": {},
   "source": [
    "due to the fact that we did not tune the gamma and other parameters, we can see a higher test error than accuracy. this also shows that the result can be greatly improved"
   ]
  },
  {
   "cell_type": "code",
   "execution_count": 26,
   "metadata": {},
   "outputs": [
    {
     "name": "stdout",
     "output_type": "stream",
     "text": [
      "test error rate and best parameters to use for MinMaxScaler: (0.0, {'svc__C': 1, 'svc__gamma': 1})\n",
      "test error rate and best paramters to use for Standard Scaler : (0.022222222222222254, {'svc__C': 10, 'svc__gamma': 0.01})\n",
      "test error rate and best paramters to use for RobustScaler: (0.022222222222222254, {'svc__C': 10, 'svc__gamma': 0.01})\n",
      "test error rate and best paramters to use for Normalizer: (0.022222222222222254, {'svc__C': 100, 'svc__gamma': 100})\n"
     ]
    }
   ],
   "source": [
    "grid_parameter_search ={'svc__C': [0.001, 0.1, 1, 10, 100],\n",
    "    'svc__gamma': [0.001, 0.01, 0.1, 1, 10, 100]}\n",
    "\n",
    "min_max_scaler_value = MinMaxScaler()\n",
    "standard_scaler_value = StandardScaler()\n",
    "robust_scaler_value = RobustScaler()\n",
    "normalizer = Normalizer()\n",
    "scalers_to_calculate = (min_max_scaler_value, standard_scaler_value, robust_scaler_value, normalizer)\n",
    "final_score = {}\n",
    "\n",
    "for scaler in scalers_to_calculate:\n",
    "    pipeline = make_pipeline(scaler, SVC())\n",
    "    \n",
    "    grid = GridSearchCV(pipeline, param_grid=grid_parameter_search, cv=5, iid='True')\n",
    "    grid.fit(X_train, y_train)\n",
    "    \n",
    "    string_splitting = str(scaler).split(\"(\")\n",
    "    string_splitting = str(string_splitting[0])\n",
    "    final_score[string_splitting] = (1 - grid.score(X_test,y_test), grid.best_params_)\n",
    "    \n",
    "print(\"test error rate and best parameters to use for MinMaxScaler:\", final_score['MinMaxScaler'])\n",
    "print(\"test error rate and best paramters to use for Standard Scaler :\", final_score['StandardScaler'])\n",
    "print(\"test error rate and best paramters to use for RobustScaler:\", final_score['RobustScaler'])\n",
    "print(\"test error rate and best paramters to use for Normalizer:\", final_score['Normalizer'])"
   ]
  },
  {
   "cell_type": "code",
   "execution_count": 27,
   "metadata": {},
   "outputs": [
    {
     "name": "stdout",
     "output_type": "stream",
     "text": [
      "test error rate and best param for non-normalized dataset (0.1777777777777778, {'C': 100, 'gamma': 0.001})\n"
     ]
    }
   ],
   "source": [
    "svc = SVC()\n",
    "param_grid ={'C': [0.01, 0.1, 1, 10, 100],\n",
    "    'gamma': [0.001, 0.01, 0.1, 1, 10, 100]}\n",
    "grid_system = GridSearchCV(svc, param_grid=param_grid, cv=5, iid='True')\n",
    "grid_system.fit(X_train, y_train)\n",
    "final_scores = (1- grid_system.score(X_test,y_test), grid_system.best_params_)\n",
    "print(\"test error rate and best param for non-normalized dataset\", final_scores)"
   ]
  },
  {
   "cell_type": "code",
   "execution_count": 28,
   "metadata": {},
   "outputs": [
    {
     "name": "stdout",
     "output_type": "stream",
     "text": [
      "3 fold cross-conformal average p-value is: 0.008604845446950726\n",
      "5 fold cross-conformal average p-value is: 0.00856658184902461\n",
      "10 fold cross-conformal average p-value is: 0.008481764206955058\n"
     ]
    }
   ],
   "source": [
    "svc = SVC(C=1, gamma=1)\n",
    "folds_values = [3,5,10]\n",
    "average_false_values = np.empty(0)\n",
    "grid_param ={'svc__C': [0.001, 0.1, 1, 10, 100],\n",
    "    'svc__gamma': [0.001, 0.01, 0.1, 1, 10, 100]}\n",
    "\n",
    "for f in range(len(folds_values)):\n",
    "    k_fold_value = KFold(shuffle=True, random_state=1504, n_splits=folds_values[f])\n",
    "    alpha_values = np.empty(0)\n",
    "    \n",
    "    for rest_value_index, fold_value_index in k_fold_value.split(X_train):\n",
    "        X_rest, X_fold, y_rest, y_fold = X_train[rest_value_index], X_train[fold_value_index], y_train[rest_value_index], y_train[fold_value_index]\n",
    "        pipeline = make_pipeline(MinMaxScaler(), SVC())\n",
    "        gridline_search = GridSearchCV(pipeline, param_grid=grid_param, cv=5, iid='True', n_jobs = -1)\n",
    "        gridline_search.fit(X_rest, y_rest)\n",
    "        \n",
    "        conformity_scores = gridline_search.decision_function((X_fold))\n",
    "        conformity_scores_calibrated = np.empty(len(conformity_scores))\n",
    "        \n",
    "        for index in range(len(conformity_scores)):\n",
    "            conformity_scores_calibrated[index] = conformity_scores[index,y_fold[index]]\n",
    "        X_test_value_for_conformity_scores = gridline_search.decision_function(X_test)\n",
    "        \n",
    "        for index in range(len(X_test)):\n",
    "            for m in range(3):\n",
    "                ranking = 0\n",
    "                for i in range(len(X_fold)):\n",
    "                    if X_test_value_for_conformity_scores[index,m] >= conformity_scores_calibrated[i]:\n",
    "                        ranking += 1\n",
    "                alpha_values = np.append(alpha_values,ranking)\n",
    "\n",
    "    alpha_values = alpha_values.reshape(folds_values[f],len(X_test),3) \n",
    "    p_values_final = (sum(alpha_values)+1)/((len(X_fold)*folds_values[f])+1)\n",
    "    final_false_p_value = 0\n",
    "    for a in range (len(p_values_final)):\n",
    "        final_false_p_value += np.sum(p_values_final[a]) - p_values_final[a,y_test[a]]\n",
    "    average_false_values = np.append(average_false_values, (final_false_p_value/(p_values_final.shape[0]*(p_values_final.shape[1]-1))))\n",
    "    \n",
    "print(\"3 fold cross-conformal average p-value is:\", average_false_values[0])\n",
    "print(\"5 fold cross-conformal average p-value is:\", average_false_values[1])\n",
    "print(\"10 fold cross-conformal average p-value is:\", average_false_values[2])"
   ]
  },
  {
   "cell_type": "code",
   "execution_count": 29,
   "metadata": {},
   "outputs": [
    {
     "data": {
      "image/png": "[encoded data removed]",
      "text/plain": [
       "<Figure size 432x288 with 1 Axes>"
      ]
     },
     "metadata": {
      "needs_background": "light"
     },
     "output_type": "display_data"
    }
   ],
   "source": [
    "import matplotlib.pyplot as plt\n",
    "\n",
    "epsilon_values = np.arange(0,1,0.01)\n",
    "final_error_rate= np.empty(0)\n",
    "for index in range(len(epsilon_values)):\n",
    "    error_rate = 0 \n",
    "    for i in range(len(X_test)):\n",
    "        if p_values_final[i,y_test[i]] <= epsilon_values[index]:\n",
    "            error_rate += 1\n",
    "    final_error_rate = np.append(final_error_rate,(error_rate/len(X_test)))\n",
    "    \n",
    "plt.plot(epsilon_values,final_error_rate, color=\"r\")\n",
    "plt.xlabel(\"epsilon values\")\n",
    "plt.ylabel(\"percentage of error rate\")\n",
    "plt.title(\"Calibration curve for wine dataset\")\n",
    "plt.show()"
   ]
  },
  {
   "cell_type": "markdown",
   "metadata": {},
   "source": [
    "as we can see the image in here, it is an ideal curve for the data that we have"
   ]
  },
  {
   "cell_type": "markdown",
   "metadata": {},
   "source": [
    "# Results"
   ]
  },
  {
   "cell_type": "markdown",
   "metadata": {},
   "source": [
    "- non normalized wine dataset accuracy: 0.4280724331280448\n",
    "- non normalized wine dataset test error rate: 0.4888888888888889\n",
    "- test error rate of Grid Search CV MinMaxScaler: 0.01\n",
    "- test error rate of Grid Search CV StandardScaler: 0.022222222222222254\n",
    "- test error rate of Grid Search CV no scaler: 0.1777777777777778\n",
    "- average false p value for 10 fold for the cross-conformal prediction: 0.008481764206955058"
   ]
  },
  {
   "cell_type": "code",
   "execution_count": null,
   "metadata": {},
   "outputs": [],
   "source": []
  }
 ],
 "metadata": {
  "kernelspec": {
   "display_name": "Python 3",
   "language": "python",
   "name": "python3"
  },
  "language_info": {
   "codemirror_mode": {
    "name": "ipython",
    "version": 3
   },
   "file_extension": ".py",
   "mimetype": "text/x-python",
   "name": "python",
   "nbconvert_exporter": "python",
   "pygments_lexer": "ipython3",
   "version": "3.8.5"
  }
 },
 "nbformat": 4,
 "nbformat_minor": 2
}
